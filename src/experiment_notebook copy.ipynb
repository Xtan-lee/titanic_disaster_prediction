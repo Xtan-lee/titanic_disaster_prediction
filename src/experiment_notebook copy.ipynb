{
 "cells": [
  {
   "cell_type": "code",
   "execution_count": 2,
   "id": "c6f8e120",
   "metadata": {
    "_cell_guid": "b1076dfc-b9ad-4769-8c92-a6c4dae69d19",
    "_uuid": "8f2839f25d086af736a60e9eeb907d3b93b6e0e5",
    "execution": {
     "iopub.execute_input": "2024-01-21T06:05:20.504632Z",
     "iopub.status.busy": "2024-01-21T06:05:20.504196Z",
     "iopub.status.idle": "2024-01-21T06:05:22.588952Z",
     "shell.execute_reply": "2024-01-21T06:05:22.587702Z"
    },
    "papermill": {
     "duration": 2.094316,
     "end_time": "2024-01-21T06:05:22.591886",
     "exception": false,
     "start_time": "2024-01-21T06:05:20.497570",
     "status": "completed"
    },
    "tags": []
   },
   "outputs": [
    {
     "name": "stderr",
     "output_type": "stream",
     "text": [
      "C:\\Users\\STANLEY\\AppData\\Local\\Temp\\ipykernel_15672\\1827467380.py:2: DeprecationWarning: \n",
      "Pyarrow will become a required dependency of pandas in the next major release of pandas (pandas 3.0),\n",
      "(to allow more performant data types, such as the Arrow string type, and better interoperability with other libraries)\n",
      "but was not found to be installed on your system.\n",
      "If this would cause problems for you,\n",
      "please provide us feedback at https://github.com/pandas-dev/pandas/issues/54466\n",
      "        \n",
      "  import pandas as pd\n"
     ]
    }
   ],
   "source": [
    "import numpy as np\n",
    "import pandas as pd\n",
    "import os\n",
    "from sklearn.ensemble import RandomForestClassifier\n",
    "from sklearn.model_selection import train_test_split, GridSearchCV, RandomizedSearchCV\n",
    "from sklearn.impute import SimpleImputer\n",
    "from sklearn.preprocessing import StandardScaler, OneHotEncoder, FunctionTransformer\n",
    "from sklearn.compose import ColumnTransformer\n",
    "from sklearn.pipeline import Pipeline\n",
    "from sklearn.neighbors import KNeighborsClassifier\n",
    "from sklearn.linear_model import LogisticRegression\n",
    "from sklearn.svm import SVC\n",
    "from sklearn.metrics import accuracy_score\n",
    "from xgboost import XGBClassifier"
   ]
  },
  {
   "cell_type": "code",
   "execution_count": 3,
   "id": "8aae3f1c",
   "metadata": {},
   "outputs": [],
   "source": [
    "import matplotlib.pyplot as plt\n",
    "import seaborn as sns\n",
    "import pickle\n",
    "\n",
    "# I will keep the resulting plots\n",
    "%matplotlib inline\n",
    "\n",
    "# Enable Jupyter Notebook's intellisense\n",
    "# %config IPCompleter.greedy=True\n",
    "\n",
    "# We want to see whole content (non-truncated)\n",
    "pd.set_option('display.max_colwidth', None)"
   ]
  },
  {
   "cell_type": "code",
   "execution_count": 4,
   "id": "ccc2fbcd",
   "metadata": {},
   "outputs": [],
   "source": [
    "train_data_file_path = os.path.join('artifacts', \"train.csv\")\n",
    "train_data = pd.read_csv(train_data_file_path)"
   ]
  },
  {
   "cell_type": "code",
   "execution_count": 5,
   "id": "81468034",
   "metadata": {},
   "outputs": [
    {
     "name": "stdout",
     "output_type": "stream",
     "text": [
      "<class 'pandas.core.frame.DataFrame'>\n",
      "RangeIndex: 891 entries, 0 to 890\n",
      "Data columns (total 12 columns):\n",
      " #   Column       Non-Null Count  Dtype  \n",
      "---  ------       --------------  -----  \n",
      " 0   PassengerId  891 non-null    int64  \n",
      " 1   Survived     891 non-null    int64  \n",
      " 2   Pclass       891 non-null    int64  \n",
      " 3   Name         891 non-null    object \n",
      " 4   Sex          891 non-null    object \n",
      " 5   Age          714 non-null    float64\n",
      " 6   SibSp        891 non-null    int64  \n",
      " 7   Parch        891 non-null    int64  \n",
      " 8   Ticket       891 non-null    object \n",
      " 9   Fare         891 non-null    float64\n",
      " 10  Cabin        204 non-null    object \n",
      " 11  Embarked     889 non-null    object \n",
      "dtypes: float64(2), int64(5), object(5)\n",
      "memory usage: 83.7+ KB\n"
     ]
    }
   ],
   "source": [
    "train_data.info()"
   ]
  },
  {
   "cell_type": "code",
   "execution_count": 6,
   "id": "58c3b590",
   "metadata": {},
   "outputs": [
    {
     "data": {
      "text/plain": [
       "PassengerId      0\n",
       "Survived         0\n",
       "Pclass           0\n",
       "Name             0\n",
       "Sex              0\n",
       "Age            177\n",
       "SibSp            0\n",
       "Parch            0\n",
       "Ticket           0\n",
       "Fare             0\n",
       "Cabin          687\n",
       "Embarked         2\n",
       "dtype: int64"
      ]
     },
     "execution_count": 6,
     "metadata": {},
     "output_type": "execute_result"
    }
   ],
   "source": [
    "train_data.isna().sum()"
   ]
  },
  {
   "cell_type": "code",
   "execution_count": 7,
   "id": "20dd2f9a",
   "metadata": {},
   "outputs": [
    {
     "data": {
      "text/plain": [
       "PassengerId    891\n",
       "Survived         2\n",
       "Pclass           3\n",
       "Name           891\n",
       "Sex              2\n",
       "Age             88\n",
       "SibSp            7\n",
       "Parch            7\n",
       "Ticket         681\n",
       "Fare           248\n",
       "Cabin          147\n",
       "Embarked         3\n",
       "dtype: int64"
      ]
     },
     "execution_count": 7,
     "metadata": {},
     "output_type": "execute_result"
    }
   ],
   "source": [
    "train_data.nunique()"
   ]
  },
  {
   "cell_type": "code",
   "execution_count": 8,
   "id": "d27f9e3e",
   "metadata": {},
   "outputs": [
    {
     "data": {
      "image/png": "[encoded data removed]",
      "text/plain": [
       "<Figure size 640x480 with 1 Axes>"
      ]
     },
     "metadata": {},
     "output_type": "display_data"
    },
    {
     "name": "stdout",
     "output_type": "stream",
     "text": [
      "Survived\n",
      "0    0.616162\n",
      "1    0.383838\n",
      "Name: proportion, dtype: float64\n"
     ]
    }
   ],
   "source": [
    "# Visualize with a countplot\n",
    "sns.countplot(x=\"Survived\", data=train_data, hue=\"Survived\")\n",
    "plt.show()\n",
    "\n",
    "# Print the proportions\n",
    "print(train_data[\"Survived\"].value_counts(normalize=True))"
   ]
  },
  {
   "cell_type": "code",
   "execution_count": 9,
   "id": "cecf24ea",
   "metadata": {},
   "outputs": [],
   "source": [
    "def visualisation_wrt_survival(df, feature_list):\n",
    "\n",
    "    for feature in feature_list:\n",
    "        # Visualize with a countplot\n",
    "        sns.countplot(x=feature, hue=\"Survived\", data=df)\n",
    "        plt.title(f\"{feature} with respect to Survived\")\n",
    "        plt.show()\n",
    "\n",
    "        print(f\"Value counts of {feature} feature\")\n",
    "        print(df[feature].value_counts())\n",
    "\n",
    "        print(f\"Proportion of people who survived for each {feature} feature value\")\n",
    "        # print(train_data[\"Survived\"].groupby(train_data[feature]).mean())\n",
    "        print(df[[feature, \"Survived\"]].groupby([feature], as_index=False).mean().sort_values(by='Survived', ascending=False))\n",
    "        print(f\"*******************************************************************************************\")\n",
    "\n"
   ]
  },
  {
   "cell_type": "code",
   "execution_count": 10,
   "id": "3706502d",
   "metadata": {},
   "outputs": [
    {
     "data": {
      "image/png": "[encoded data removed]",
      "text/plain": [
       "<Figure size 640x480 with 1 Axes>"
      ]
     },
     "metadata": {},
     "output_type": "display_data"
    },
    {
     "name": "stdout",
     "output_type": "stream",
     "text": [
      "Value counts of Sex feature\n",
      "Sex\n",
      "male      577\n",
      "female    314\n",
      "Name: count, dtype: int64\n",
      "Proportion of people who survived for each Sex feature value\n",
      "      Sex  Survived\n",
      "0  female  0.742038\n",
      "1    male  0.188908\n",
      "*******************************************************************************************\n"
     ]
    },
    {
     "data": {
      "image/png": "[encoded data removed]",
      "text/plain": [
       "<Figure size 640x480 with 1 Axes>"
      ]
     },
     "metadata": {},
     "output_type": "display_data"
    },
    {
     "name": "stdout",
     "output_type": "stream",
     "text": [
      "Value counts of Pclass feature\n",
      "Pclass\n",
      "3    491\n",
      "1    216\n",
      "2    184\n",
      "Name: count, dtype: int64\n",
      "Proportion of people who survived for each Pclass feature value\n",
      "   Pclass  Survived\n",
      "0       1  0.629630\n",
      "1       2  0.472826\n",
      "2       3  0.242363\n",
      "*******************************************************************************************\n"
     ]
    },
    {
     "data": {
      "image/png": "[encoded data removed]",
      "text/plain": [
       "<Figure size 640x480 with 1 Axes>"
      ]
     },
     "metadata": {},
     "output_type": "display_data"
    },
    {
     "name": "stdout",
     "output_type": "stream",
     "text": [
      "Value counts of Embarked feature\n",
      "Embarked\n",
      "S    644\n",
      "C    168\n",
      "Q     77\n",
      "Name: count, dtype: int64\n",
      "Proportion of people who survived for each Embarked feature value\n",
      "  Embarked  Survived\n",
      "0        C  0.553571\n",
      "1        Q  0.389610\n",
      "2        S  0.336957\n",
      "*******************************************************************************************\n"
     ]
    },
    {
     "data": {
      "image/png": "[encoded data removed]",
      "text/plain": [
       "<Figure size 640x480 with 1 Axes>"
      ]
     },
     "metadata": {},
     "output_type": "display_data"
    },
    {
     "name": "stdout",
     "output_type": "stream",
     "text": [
      "Value counts of SibSp feature\n",
      "SibSp\n",
      "0    608\n",
      "1    209\n",
      "2     28\n",
      "4     18\n",
      "3     16\n",
      "8      7\n",
      "5      5\n",
      "Name: count, dtype: int64\n",
      "Proportion of people who survived for each SibSp feature value\n",
      "   SibSp  Survived\n",
      "1      1  0.535885\n",
      "2      2  0.464286\n",
      "0      0  0.345395\n",
      "3      3  0.250000\n",
      "4      4  0.166667\n",
      "5      5  0.000000\n",
      "6      8  0.000000\n",
      "*******************************************************************************************\n"
     ]
    },
    {
     "data": {
      "image/png": "[encoded data removed]",
      "text/plain": [
       "<Figure size 640x480 with 1 Axes>"
      ]
     },
     "metadata": {},
     "output_type": "display_data"
    },
    {
     "name": "stdout",
     "output_type": "stream",
     "text": [
      "Value counts of Parch feature\n",
      "Parch\n",
      "0    678\n",
      "1    118\n",
      "2     80\n",
      "5      5\n",
      "3      5\n",
      "4      4\n",
      "6      1\n",
      "Name: count, dtype: int64\n",
      "Proportion of people who survived for each Parch feature value\n",
      "   Parch  Survived\n",
      "3      3  0.600000\n",
      "1      1  0.550847\n",
      "2      2  0.500000\n",
      "0      0  0.343658\n",
      "5      5  0.200000\n",
      "4      4  0.000000\n",
      "6      6  0.000000\n",
      "*******************************************************************************************\n"
     ]
    }
   ],
   "source": [
    "cat_features_to_visualize = [\"Sex\", \"Pclass\", \"Embarked\", \"SibSp\", \"Parch\"]\n",
    "visualisation_wrt_survival(train_data, cat_features_to_visualize)"
   ]
  },
  {
   "cell_type": "code",
   "execution_count": 11,
   "id": "0e859c5c",
   "metadata": {},
   "outputs": [],
   "source": [
    "def custom_preprocessor(df):\n",
    "\n",
    "    # Feature Generation\n",
    "\n",
    "    # Get titles\n",
    "    df[\"Title\"] = df['Name'].str.split(', ', expand=True)[1].str.split('.', expand=True)[0]\n",
    "\n",
    "    # Mapping French Madame and Madammoisel to Mrs and Miss respectively\n",
    "    # Mapping Don and Dona to Sir and Madam respectively \n",
    "    df['Title'] = df['Title'].replace('Mlle', 'Miss')\n",
    "    df['Title'] = df['Title'].replace('Ms', 'Miss')\n",
    "    df['Title'] = df['Title'].replace('Mme', 'Mrs')\n",
    "    df['Title'] = df['Title'].replace('Dona', 'Lady')\n",
    "    df['Title'] = df['Title'].replace('Don', 'Sir')\n",
    "\n",
    "    # Family Size\n",
    "    df[\"Fsize\"] = df[\"SibSp\"] + df[\"Parch\"]\n",
    "\n",
    "    # Ticket first letters\n",
    "    df[\"Ticket\"] = df[\"Ticket\"].apply(lambda x: str(x)[0])\n",
    "\n",
    "\n",
    "\n",
    "    return df"
   ]
  },
  {
   "cell_type": "code",
   "execution_count": 13,
   "id": "d580fc12",
   "metadata": {},
   "outputs": [
    {
     "data": {
      "text/html": [
       "<div>\n",
       "<style scoped>\n",
       "    .dataframe tbody tr th:only-of-type {\n",
       "        vertical-align: middle;\n",
       "    }\n",
       "\n",
       "    .dataframe tbody tr th {\n",
       "        vertical-align: top;\n",
       "    }\n",
       "\n",
       "    .dataframe thead th {\n",
       "        text-align: right;\n",
       "    }\n",
       "</style>\n",
       "<table border=\"1\" class=\"dataframe\">\n",
       "  <thead>\n",
       "    <tr style=\"text-align: right;\">\n",
       "      <th></th>\n",
       "      <th>PassengerId</th>\n",
       "      <th>Survived</th>\n",
       "      <th>Pclass</th>\n",
       "      <th>Name</th>\n",
       "      <th>Sex</th>\n",
       "      <th>Age</th>\n",
       "      <th>SibSp</th>\n",
       "      <th>Parch</th>\n",
       "      <th>Ticket</th>\n",
       "      <th>Fare</th>\n",
       "      <th>Cabin</th>\n",
       "      <th>Embarked</th>\n",
       "      <th>Title</th>\n",
       "      <th>Fsize</th>\n",
       "    </tr>\n",
       "  </thead>\n",
       "  <tbody>\n",
       "    <tr>\n",
       "      <th>0</th>\n",
       "      <td>1</td>\n",
       "      <td>0</td>\n",
       "      <td>3</td>\n",
       "      <td>Braund, Mr. Owen Harris</td>\n",
       "      <td>male</td>\n",
       "      <td>22.0</td>\n",
       "      <td>1</td>\n",
       "      <td>0</td>\n",
       "      <td>A</td>\n",
       "      <td>7.2500</td>\n",
       "      <td>NaN</td>\n",
       "      <td>S</td>\n",
       "      <td>Mr</td>\n",
       "      <td>1</td>\n",
       "    </tr>\n",
       "    <tr>\n",
       "      <th>1</th>\n",
       "      <td>2</td>\n",
       "      <td>1</td>\n",
       "      <td>1</td>\n",
       "      <td>Cumings, Mrs. John Bradley (Florence Briggs Thayer)</td>\n",
       "      <td>female</td>\n",
       "      <td>38.0</td>\n",
       "      <td>1</td>\n",
       "      <td>0</td>\n",
       "      <td>P</td>\n",
       "      <td>71.2833</td>\n",
       "      <td>C85</td>\n",
       "      <td>C</td>\n",
       "      <td>Mrs</td>\n",
       "      <td>1</td>\n",
       "    </tr>\n",
       "    <tr>\n",
       "      <th>2</th>\n",
       "      <td>3</td>\n",
       "      <td>1</td>\n",
       "      <td>3</td>\n",
       "      <td>Heikkinen, Miss. Laina</td>\n",
       "      <td>female</td>\n",
       "      <td>26.0</td>\n",
       "      <td>0</td>\n",
       "      <td>0</td>\n",
       "      <td>S</td>\n",
       "      <td>7.9250</td>\n",
       "      <td>NaN</td>\n",
       "      <td>S</td>\n",
       "      <td>Miss</td>\n",
       "      <td>0</td>\n",
       "    </tr>\n",
       "    <tr>\n",
       "      <th>3</th>\n",
       "      <td>4</td>\n",
       "      <td>1</td>\n",
       "      <td>1</td>\n",
       "      <td>Futrelle, Mrs. Jacques Heath (Lily May Peel)</td>\n",
       "      <td>female</td>\n",
       "      <td>35.0</td>\n",
       "      <td>1</td>\n",
       "      <td>0</td>\n",
       "      <td>1</td>\n",
       "      <td>53.1000</td>\n",
       "      <td>C123</td>\n",
       "      <td>S</td>\n",
       "      <td>Mrs</td>\n",
       "      <td>1</td>\n",
       "    </tr>\n",
       "    <tr>\n",
       "      <th>4</th>\n",
       "      <td>5</td>\n",
       "      <td>0</td>\n",
       "      <td>3</td>\n",
       "      <td>Allen, Mr. William Henry</td>\n",
       "      <td>male</td>\n",
       "      <td>35.0</td>\n",
       "      <td>0</td>\n",
       "      <td>0</td>\n",
       "      <td>3</td>\n",
       "      <td>8.0500</td>\n",
       "      <td>NaN</td>\n",
       "      <td>S</td>\n",
       "      <td>Mr</td>\n",
       "      <td>0</td>\n",
       "    </tr>\n",
       "  </tbody>\n",
       "</table>\n",
       "</div>"
      ],
      "text/plain": [
       "   PassengerId  Survived  Pclass  \\\n",
       "0            1         0       3   \n",
       "1            2         1       1   \n",
       "2            3         1       3   \n",
       "3            4         1       1   \n",
       "4            5         0       3   \n",
       "\n",
       "                                                  Name     Sex   Age  SibSp  \\\n",
       "0                              Braund, Mr. Owen Harris    male  22.0      1   \n",
       "1  Cumings, Mrs. John Bradley (Florence Briggs Thayer)  female  38.0      1   \n",
       "2                               Heikkinen, Miss. Laina  female  26.0      0   \n",
       "3         Futrelle, Mrs. Jacques Heath (Lily May Peel)  female  35.0      1   \n",
       "4                             Allen, Mr. William Henry    male  35.0      0   \n",
       "\n",
       "   Parch Ticket     Fare Cabin Embarked Title  Fsize  \n",
       "0      0      A   7.2500   NaN        S    Mr      1  \n",
       "1      0      P  71.2833   C85        C   Mrs      1  \n",
       "2      0      S   7.9250   NaN        S  Miss      0  \n",
       "3      0      1  53.1000  C123        S   Mrs      1  \n",
       "4      0      3   8.0500   NaN        S    Mr      0  "
      ]
     },
     "execution_count": 13,
     "metadata": {},
     "output_type": "execute_result"
    }
   ],
   "source": [
    "data_new = custom_preprocessor(train_data)\n",
    "data_new.head()"
   ]
  },
  {
   "cell_type": "code",
   "execution_count": 14,
   "id": "212d82d3",
   "metadata": {},
   "outputs": [
    {
     "data": {
      "image/png": "[encoded data removed]",
      "text/plain": [
       "<Figure size 640x480 with 1 Axes>"
      ]
     },
     "metadata": {},
     "output_type": "display_data"
    },
    {
     "name": "stdout",
     "output_type": "stream",
     "text": [
      "Value counts of Ticket feature\n",
      "Ticket\n",
      "3    301\n",
      "2    183\n",
      "1    146\n",
      "P     65\n",
      "S     65\n",
      "C     47\n",
      "A     29\n",
      "W     13\n",
      "4     10\n",
      "7      9\n",
      "F      7\n",
      "6      6\n",
      "L      4\n",
      "5      3\n",
      "8      2\n",
      "9      1\n",
      "Name: count, dtype: int64\n",
      "Proportion of people who survived for each Ticket feature value\n",
      "   Ticket  Survived\n",
      "8       9  1.000000\n",
      "13      P  0.646154\n",
      "0       1  0.630137\n",
      "11      F  0.571429\n",
      "1       2  0.464481\n",
      "10      C  0.340426\n",
      "14      S  0.323077\n",
      "12      L  0.250000\n",
      "2       3  0.239203\n",
      "3       4  0.200000\n",
      "5       6  0.166667\n",
      "15      W  0.153846\n",
      "6       7  0.111111\n",
      "9       A  0.068966\n",
      "4       5  0.000000\n",
      "7       8  0.000000\n",
      "*******************************************************************************************\n"
     ]
    },
    {
     "data": {
      "image/png": "[encoded data removed]",
      "text/plain": [
       "<Figure size 640x480 with 1 Axes>"
      ]
     },
     "metadata": {},
     "output_type": "display_data"
    },
    {
     "name": "stdout",
     "output_type": "stream",
     "text": [
      "Value counts of Title feature\n",
      "Title\n",
      "Mr              517\n",
      "Miss            185\n",
      "Mrs             126\n",
      "Master           40\n",
      "Dr                7\n",
      "Rev               6\n",
      "Sir               2\n",
      "Major             2\n",
      "Col               2\n",
      "Lady              1\n",
      "Capt              1\n",
      "the Countess      1\n",
      "Jonkheer          1\n",
      "Name: count, dtype: int64\n",
      "Proportion of people who survived for each Title feature value\n",
      "           Title  Survived\n",
      "4           Lady  1.000000\n",
      "12  the Countess  1.000000\n",
      "9            Mrs  0.793651\n",
      "7           Miss  0.702703\n",
      "6         Master  0.575000\n",
      "1            Col  0.500000\n",
      "5          Major  0.500000\n",
      "11           Sir  0.500000\n",
      "2             Dr  0.428571\n",
      "8             Mr  0.156673\n",
      "0           Capt  0.000000\n",
      "3       Jonkheer  0.000000\n",
      "10           Rev  0.000000\n",
      "*******************************************************************************************\n"
     ]
    },
    {
     "data": {
      "image/png": "[encoded data removed]",
      "text/plain": [
       "<Figure size 640x480 with 1 Axes>"
      ]
     },
     "metadata": {},
     "output_type": "display_data"
    },
    {
     "name": "stdout",
     "output_type": "stream",
     "text": [
      "Value counts of Fsize feature\n",
      "Fsize\n",
      "0     537\n",
      "1     161\n",
      "2     102\n",
      "3      29\n",
      "5      22\n",
      "4      15\n",
      "6      12\n",
      "10      7\n",
      "7       6\n",
      "Name: count, dtype: int64\n",
      "Proportion of people who survived for each Fsize feature value\n",
      "   Fsize  Survived\n",
      "3      3  0.724138\n",
      "2      2  0.578431\n",
      "1      1  0.552795\n",
      "6      6  0.333333\n",
      "0      0  0.303538\n",
      "4      4  0.200000\n",
      "5      5  0.136364\n",
      "7      7  0.000000\n",
      "8     10  0.000000\n",
      "*******************************************************************************************\n"
     ]
    }
   ],
   "source": [
    "visualisation_wrt_survival(data_new, [\"Ticket\", \"Title\", \"Fsize\"])"
   ]
  },
  {
   "cell_type": "code",
   "execution_count": 15,
   "id": "b77df236",
   "metadata": {
    "execution": {
     "iopub.execute_input": "2024-01-21T06:05:22.667182Z",
     "iopub.status.busy": "2024-01-21T06:05:22.666740Z",
     "iopub.status.idle": "2024-01-21T06:05:22.692161Z",
     "shell.execute_reply": "2024-01-21T06:05:22.690763Z"
    },
    "papermill": {
     "duration": 0.03448,
     "end_time": "2024-01-21T06:05:22.694759",
     "exception": false,
     "start_time": "2024-01-21T06:05:22.660279",
     "status": "completed"
    },
    "tags": []
   },
   "outputs": [
    {
     "data": {
      "text/html": [
       "<div>\n",
       "<style scoped>\n",
       "    .dataframe tbody tr th:only-of-type {\n",
       "        vertical-align: middle;\n",
       "    }\n",
       "\n",
       "    .dataframe tbody tr th {\n",
       "        vertical-align: top;\n",
       "    }\n",
       "\n",
       "    .dataframe thead th {\n",
       "        text-align: right;\n",
       "    }\n",
       "</style>\n",
       "<table border=\"1\" class=\"dataframe\">\n",
       "  <thead>\n",
       "    <tr style=\"text-align: right;\">\n",
       "      <th></th>\n",
       "      <th>PassengerId</th>\n",
       "      <th>Pclass</th>\n",
       "      <th>Name</th>\n",
       "      <th>Sex</th>\n",
       "      <th>Age</th>\n",
       "      <th>SibSp</th>\n",
       "      <th>Parch</th>\n",
       "      <th>Ticket</th>\n",
       "      <th>Fare</th>\n",
       "      <th>Cabin</th>\n",
       "      <th>Embarked</th>\n",
       "    </tr>\n",
       "  </thead>\n",
       "  <tbody>\n",
       "    <tr>\n",
       "      <th>0</th>\n",
       "      <td>892</td>\n",
       "      <td>3</td>\n",
       "      <td>Kelly, Mr. James</td>\n",
       "      <td>male</td>\n",
       "      <td>34.5</td>\n",
       "      <td>0</td>\n",
       "      <td>0</td>\n",
       "      <td>330911</td>\n",
       "      <td>7.8292</td>\n",
       "      <td>NaN</td>\n",
       "      <td>Q</td>\n",
       "    </tr>\n",
       "    <tr>\n",
       "      <th>1</th>\n",
       "      <td>893</td>\n",
       "      <td>3</td>\n",
       "      <td>Wilkes, Mrs. James (Ellen Needs)</td>\n",
       "      <td>female</td>\n",
       "      <td>47.0</td>\n",
       "      <td>1</td>\n",
       "      <td>0</td>\n",
       "      <td>363272</td>\n",
       "      <td>7.0000</td>\n",
       "      <td>NaN</td>\n",
       "      <td>S</td>\n",
       "    </tr>\n",
       "    <tr>\n",
       "      <th>2</th>\n",
       "      <td>894</td>\n",
       "      <td>2</td>\n",
       "      <td>Myles, Mr. Thomas Francis</td>\n",
       "      <td>male</td>\n",
       "      <td>62.0</td>\n",
       "      <td>0</td>\n",
       "      <td>0</td>\n",
       "      <td>240276</td>\n",
       "      <td>9.6875</td>\n",
       "      <td>NaN</td>\n",
       "      <td>Q</td>\n",
       "    </tr>\n",
       "    <tr>\n",
       "      <th>3</th>\n",
       "      <td>895</td>\n",
       "      <td>3</td>\n",
       "      <td>Wirz, Mr. Albert</td>\n",
       "      <td>male</td>\n",
       "      <td>27.0</td>\n",
       "      <td>0</td>\n",
       "      <td>0</td>\n",
       "      <td>315154</td>\n",
       "      <td>8.6625</td>\n",
       "      <td>NaN</td>\n",
       "      <td>S</td>\n",
       "    </tr>\n",
       "    <tr>\n",
       "      <th>4</th>\n",
       "      <td>896</td>\n",
       "      <td>3</td>\n",
       "      <td>Hirvonen, Mrs. Alexander (Helga E Lindqvist)</td>\n",
       "      <td>female</td>\n",
       "      <td>22.0</td>\n",
       "      <td>1</td>\n",
       "      <td>1</td>\n",
       "      <td>3101298</td>\n",
       "      <td>12.2875</td>\n",
       "      <td>NaN</td>\n",
       "      <td>S</td>\n",
       "    </tr>\n",
       "  </tbody>\n",
       "</table>\n",
       "</div>"
      ],
      "text/plain": [
       "   PassengerId  Pclass                                          Name     Sex  \\\n",
       "0          892       3                              Kelly, Mr. James    male   \n",
       "1          893       3              Wilkes, Mrs. James (Ellen Needs)  female   \n",
       "2          894       2                     Myles, Mr. Thomas Francis    male   \n",
       "3          895       3                              Wirz, Mr. Albert    male   \n",
       "4          896       3  Hirvonen, Mrs. Alexander (Helga E Lindqvist)  female   \n",
       "\n",
       "    Age  SibSp  Parch   Ticket     Fare Cabin Embarked  \n",
       "0  34.5      0      0   330911   7.8292   NaN        Q  \n",
       "1  47.0      1      0   363272   7.0000   NaN        S  \n",
       "2  62.0      0      0   240276   9.6875   NaN        Q  \n",
       "3  27.0      0      0   315154   8.6625   NaN        S  \n",
       "4  22.0      1      1  3101298  12.2875   NaN        S  "
      ]
     },
     "execution_count": 15,
     "metadata": {},
     "output_type": "execute_result"
    }
   ],
   "source": [
    "test_data_file_path = os.path.join('artifacts', \"test.csv\")\n",
    "test_data = pd.read_csv(test_data_file_path)\n",
    "test_data.head()"
   ]
  },
  {
   "cell_type": "code",
   "execution_count": 16,
   "id": "a2640e2b",
   "metadata": {},
   "outputs": [
    {
     "name": "stdout",
     "output_type": "stream",
     "text": [
      "<class 'pandas.core.frame.DataFrame'>\n",
      "RangeIndex: 418 entries, 0 to 417\n",
      "Data columns (total 11 columns):\n",
      " #   Column       Non-Null Count  Dtype  \n",
      "---  ------       --------------  -----  \n",
      " 0   PassengerId  418 non-null    int64  \n",
      " 1   Pclass       418 non-null    int64  \n",
      " 2   Name         418 non-null    object \n",
      " 3   Sex          418 non-null    object \n",
      " 4   Age          332 non-null    float64\n",
      " 5   SibSp        418 non-null    int64  \n",
      " 6   Parch        418 non-null    int64  \n",
      " 7   Ticket       418 non-null    object \n",
      " 8   Fare         417 non-null    float64\n",
      " 9   Cabin        91 non-null     object \n",
      " 10  Embarked     418 non-null    object \n",
      "dtypes: float64(2), int64(4), object(5)\n",
      "memory usage: 36.1+ KB\n"
     ]
    }
   ],
   "source": [
    "test_data.info()"
   ]
  },
  {
   "cell_type": "code",
   "execution_count": 17,
   "id": "9790993e",
   "metadata": {},
   "outputs": [],
   "source": [
    "# Final segragation of features because some integer columns are categorical columns\n",
    "num_features = ['Pclass', 'Age', 'SibSp', 'Parch', 'Fare', 'Fsize']\n",
    "cat_features = ['Sex', 'Ticket', 'Embarked','Title']"
   ]
  },
  {
   "cell_type": "code",
   "execution_count": 18,
   "id": "6b04bf39",
   "metadata": {
    "execution": {
     "iopub.execute_input": "2024-01-21T06:05:22.788437Z",
     "iopub.status.busy": "2024-01-21T06:05:22.788017Z",
     "iopub.status.idle": "2024-01-21T06:05:22.796182Z",
     "shell.execute_reply": "2024-01-21T06:05:22.794934Z"
    },
    "papermill": {
     "duration": 0.017482,
     "end_time": "2024-01-21T06:05:22.798644",
     "exception": false,
     "start_time": "2024-01-21T06:05:22.781162",
     "status": "completed"
    },
    "tags": []
   },
   "outputs": [],
   "source": [
    "# Define the preprocessing steps for numerical and categorical features\n",
    "num_transformer = Pipeline(steps=[\n",
    "    ('imputer', SimpleImputer(strategy='median')),\n",
    "    ('scaler', StandardScaler())\n",
    "])\n",
    "\n",
    "cat_transformer = Pipeline(steps=[\n",
    "    ('imputer', SimpleImputer(strategy='most_frequent')),\n",
    "    ('onehot', OneHotEncoder(handle_unknown='ignore'))\n",
    "])"
   ]
  },
  {
   "cell_type": "code",
   "execution_count": 19,
   "id": "b01953ba",
   "metadata": {},
   "outputs": [],
   "source": [
    "# Combine the preprocessing steps for numerical and categorical features\n",
    "preprocessor = ColumnTransformer(transformers=[\n",
    "    ('num', num_transformer, num_features),\n",
    "    ('cat', cat_transformer, cat_features)\n",
    "],remainder='drop')"
   ]
  },
  {
   "cell_type": "code",
   "execution_count": 20,
   "id": "7bcdcf9f",
   "metadata": {},
   "outputs": [],
   "source": [
    "def training(df, feature_transformers):\n",
    "\n",
    "    classifiers = {\n",
    "        \"Random Forest\": RandomForestClassifier(),\n",
    "        \"XGBoost\": XGBClassifier(),\n",
    "        \"KNN\": KNeighborsClassifier(),\n",
    "        \"LogReg\": LogisticRegression(),\n",
    "        \"SVM\": SVC()\n",
    "    }\n",
    "\n",
    "    classifier_params = {\n",
    "        \"Random Forest\": {\n",
    "            'clf__max_depth': np.arange(3,7,1),\n",
    "            'clf__n_estimators': np.arange(50,250,100)\n",
    "        },\n",
    "        \"XGBoost\": {\n",
    "            'clf__learning_rate': np.arange(0.05, 1, 0.05),\n",
    "            'clf__max_depth': np.arange(3,7,1),\n",
    "            'clf__n_estimators': np.arange(50,250,100)\n",
    "        },\n",
    "        \"KNN\": {\n",
    "            'clf__n_neighbors': [3, 5, 7, 9],\n",
    "            'clf__weights': ['uniform', 'distance'],\n",
    "            'clf__algorithm': ['auto', 'brute'],\n",
    "        },\n",
    "        \"LogReg\": {\n",
    "            'clf__penalty': ['l1', 'l2'],\n",
    "            'clf__C': [0.001, 0.01, 0.1, 1, 10],\n",
    "            'clf__solver': ['liblinear', 'saga'],\n",
    "        },\n",
    "        \"SVM\": {\n",
    "            'clf__C': [0.001, 0.01, 0.1, 1, 10],\n",
    "            'clf__kernel': ['linear', 'rbf', 'poly'],\n",
    "            'clf__gamma': ['scale', 'auto'],\n",
    "        }\n",
    "\n",
    "    }\n",
    "\n",
    "    model_report = {}\n",
    "\n",
    "    for key in classifiers:\n",
    "        # Combine the preprocessor and model into a single pipeline\n",
    "        print(f\" Starting Preprocessing, Feature Engineering and Model Initialization for {key} Classifier\")\n",
    "        pipeline = Pipeline(steps=[\n",
    "            ('custom_preprocessing', FunctionTransformer(func=custom_preprocessor)),\n",
    "            ('preprocessor', feature_transformers),\n",
    "            ('clf', classifiers[key])\n",
    "        ])\n",
    "\n",
    "        print(f\"Starting Hyper-parameter selection and Model Training with Cross-Validation for {key}\")\n",
    "        model = GridSearchCV(estimator=pipeline, param_grid=classifier_params[key], scoring='accuracy', cv=5, verbose=False)\n",
    "        model.fit(df.drop(['Survived'], axis=1), df['Survived'])\n",
    "        print(f\"Training completed for {key}. Cross-Validation Acurracy for best Model is {model.best_score_}.\")\n",
    "        \n",
    "        print(f\"Saving best model artifacts for {key}.\")\n",
    "        model_report_list = []\n",
    "        model_report_list.append(model.best_score_) \n",
    "        model_report_list.append(model.best_params_)\n",
    "        model_report_list.append(model.best_estimator_)\n",
    "\n",
    "        model_report[key] = model_report_list \n",
    "        print(f\"Save successful for {key}.\")\n",
    "\n",
    "    print(f\"Collating results for Models in a Dataframe\")\n",
    "    model_report_df = pd.DataFrame.from_dict(model_report, orient='index',\n",
    "                       columns=['best_score_cv', 'best_params', 'best_estimator'])\n",
    "    model_report_df = model_report_df.sort_values(\"best_score_cv\", ascending=False)\n",
    "    print(model_report_df.drop(['best_estimator'], axis=1))\n",
    "    best_model = model_report_df[\"best_estimator\"].values[0]\n",
    "    print(f\"The best model is {model_report_df.index.values[0]} with hyper-parameters {model_report_df.best_params.values[0]}\")\n",
    "    print(f\"Training Complete\")\n",
    "    return best_model, model_report_df.drop(['best_estimator'], axis=1)\n",
    "\n"
   ]
  },
  {
   "cell_type": "code",
   "execution_count": 21,
   "id": "c8726cf8",
   "metadata": {},
   "outputs": [
    {
     "name": "stdout",
     "output_type": "stream",
     "text": [
      " Starting Preprocessing, Feature Engineering and Model Initialization for Random Forest Classifier\n",
      "Starting Hyper-parameter selection and Model Training with Cross-Validation for Random Forest\n",
      "Training completed for Random Forest. Cross-Validation Acurracy for best Model is 0.8282593685267716.\n",
      "Saving best model artifacts for Random Forest.\n",
      "Save successful for Random Forest.\n",
      " Starting Preprocessing, Feature Engineering and Model Initialization for XGBoost Classifier\n",
      "Starting Hyper-parameter selection and Model Training with Cross-Validation for XGBoost\n",
      "Training completed for XGBoost. Cross-Validation Acurracy for best Model is 0.8372606867114432.\n",
      "Saving best model artifacts for XGBoost.\n",
      "Save successful for XGBoost.\n",
      " Starting Preprocessing, Feature Engineering and Model Initialization for KNN Classifier\n",
      "Starting Hyper-parameter selection and Model Training with Cross-Validation for KNN\n",
      "Training completed for KNN. Cross-Validation Acurracy for best Model is 0.8182286108844391.\n",
      "Saving best model artifacts for KNN.\n",
      "Save successful for KNN.\n",
      " Starting Preprocessing, Feature Engineering and Model Initialization for LogReg Classifier\n",
      "Starting Hyper-parameter selection and Model Training with Cross-Validation for LogReg\n"
     ]
    },
    {
     "name": "stderr",
     "output_type": "stream",
     "text": [
      "c:\\Users\\STANLEY\\Desktop\\titanic_disaster_prediction\\titanic_prediction_venv\\Lib\\site-packages\\sklearn\\linear_model\\_sag.py:350: ConvergenceWarning: The max_iter was reached which means the coef_ did not converge\n",
      "  warnings.warn(\n",
      "c:\\Users\\STANLEY\\Desktop\\titanic_disaster_prediction\\titanic_prediction_venv\\Lib\\site-packages\\sklearn\\linear_model\\_sag.py:350: ConvergenceWarning: The max_iter was reached which means the coef_ did not converge\n",
      "  warnings.warn(\n",
      "c:\\Users\\STANLEY\\Desktop\\titanic_disaster_prediction\\titanic_prediction_venv\\Lib\\site-packages\\sklearn\\linear_model\\_sag.py:350: ConvergenceWarning: The max_iter was reached which means the coef_ did not converge\n",
      "  warnings.warn(\n",
      "c:\\Users\\STANLEY\\Desktop\\titanic_disaster_prediction\\titanic_prediction_venv\\Lib\\site-packages\\sklearn\\linear_model\\_sag.py:350: ConvergenceWarning: The max_iter was reached which means the coef_ did not converge\n",
      "  warnings.warn(\n",
      "c:\\Users\\STANLEY\\Desktop\\titanic_disaster_prediction\\titanic_prediction_venv\\Lib\\site-packages\\sklearn\\linear_model\\_sag.py:350: ConvergenceWarning: The max_iter was reached which means the coef_ did not converge\n",
      "  warnings.warn(\n",
      "c:\\Users\\STANLEY\\Desktop\\titanic_disaster_prediction\\titanic_prediction_venv\\Lib\\site-packages\\sklearn\\linear_model\\_sag.py:350: ConvergenceWarning: The max_iter was reached which means the coef_ did not converge\n",
      "  warnings.warn(\n",
      "c:\\Users\\STANLEY\\Desktop\\titanic_disaster_prediction\\titanic_prediction_venv\\Lib\\site-packages\\sklearn\\linear_model\\_sag.py:350: ConvergenceWarning: The max_iter was reached which means the coef_ did not converge\n",
      "  warnings.warn(\n",
      "c:\\Users\\STANLEY\\Desktop\\titanic_disaster_prediction\\titanic_prediction_venv\\Lib\\site-packages\\sklearn\\linear_model\\_sag.py:350: ConvergenceWarning: The max_iter was reached which means the coef_ did not converge\n",
      "  warnings.warn(\n",
      "c:\\Users\\STANLEY\\Desktop\\titanic_disaster_prediction\\titanic_prediction_venv\\Lib\\site-packages\\sklearn\\linear_model\\_sag.py:350: ConvergenceWarning: The max_iter was reached which means the coef_ did not converge\n",
      "  warnings.warn(\n",
      "c:\\Users\\STANLEY\\Desktop\\titanic_disaster_prediction\\titanic_prediction_venv\\Lib\\site-packages\\sklearn\\linear_model\\_sag.py:350: ConvergenceWarning: The max_iter was reached which means the coef_ did not converge\n",
      "  warnings.warn(\n",
      "c:\\Users\\STANLEY\\Desktop\\titanic_disaster_prediction\\titanic_prediction_venv\\Lib\\site-packages\\sklearn\\linear_model\\_sag.py:350: ConvergenceWarning: The max_iter was reached which means the coef_ did not converge\n",
      "  warnings.warn(\n",
      "c:\\Users\\STANLEY\\Desktop\\titanic_disaster_prediction\\titanic_prediction_venv\\Lib\\site-packages\\sklearn\\linear_model\\_sag.py:350: ConvergenceWarning: The max_iter was reached which means the coef_ did not converge\n",
      "  warnings.warn(\n",
      "c:\\Users\\STANLEY\\Desktop\\titanic_disaster_prediction\\titanic_prediction_venv\\Lib\\site-packages\\sklearn\\linear_model\\_sag.py:350: ConvergenceWarning: The max_iter was reached which means the coef_ did not converge\n",
      "  warnings.warn(\n",
      "c:\\Users\\STANLEY\\Desktop\\titanic_disaster_prediction\\titanic_prediction_venv\\Lib\\site-packages\\sklearn\\linear_model\\_sag.py:350: ConvergenceWarning: The max_iter was reached which means the coef_ did not converge\n",
      "  warnings.warn(\n",
      "c:\\Users\\STANLEY\\Desktop\\titanic_disaster_prediction\\titanic_prediction_venv\\Lib\\site-packages\\sklearn\\linear_model\\_sag.py:350: ConvergenceWarning: The max_iter was reached which means the coef_ did not converge\n",
      "  warnings.warn(\n",
      "c:\\Users\\STANLEY\\Desktop\\titanic_disaster_prediction\\titanic_prediction_venv\\Lib\\site-packages\\sklearn\\linear_model\\_sag.py:350: ConvergenceWarning: The max_iter was reached which means the coef_ did not converge\n",
      "  warnings.warn(\n",
      "c:\\Users\\STANLEY\\Desktop\\titanic_disaster_prediction\\titanic_prediction_venv\\Lib\\site-packages\\sklearn\\linear_model\\_sag.py:350: ConvergenceWarning: The max_iter was reached which means the coef_ did not converge\n",
      "  warnings.warn(\n",
      "c:\\Users\\STANLEY\\Desktop\\titanic_disaster_prediction\\titanic_prediction_venv\\Lib\\site-packages\\sklearn\\linear_model\\_sag.py:350: ConvergenceWarning: The max_iter was reached which means the coef_ did not converge\n",
      "  warnings.warn(\n",
      "c:\\Users\\STANLEY\\Desktop\\titanic_disaster_prediction\\titanic_prediction_venv\\Lib\\site-packages\\sklearn\\linear_model\\_sag.py:350: ConvergenceWarning: The max_iter was reached which means the coef_ did not converge\n",
      "  warnings.warn(\n",
      "c:\\Users\\STANLEY\\Desktop\\titanic_disaster_prediction\\titanic_prediction_venv\\Lib\\site-packages\\sklearn\\linear_model\\_sag.py:350: ConvergenceWarning: The max_iter was reached which means the coef_ did not converge\n",
      "  warnings.warn(\n",
      "c:\\Users\\STANLEY\\Desktop\\titanic_disaster_prediction\\titanic_prediction_venv\\Lib\\site-packages\\sklearn\\linear_model\\_sag.py:350: ConvergenceWarning: The max_iter was reached which means the coef_ did not converge\n",
      "  warnings.warn(\n",
      "c:\\Users\\STANLEY\\Desktop\\titanic_disaster_prediction\\titanic_prediction_venv\\Lib\\site-packages\\sklearn\\linear_model\\_sag.py:350: ConvergenceWarning: The max_iter was reached which means the coef_ did not converge\n",
      "  warnings.warn(\n",
      "c:\\Users\\STANLEY\\Desktop\\titanic_disaster_prediction\\titanic_prediction_venv\\Lib\\site-packages\\sklearn\\linear_model\\_sag.py:350: ConvergenceWarning: The max_iter was reached which means the coef_ did not converge\n",
      "  warnings.warn(\n",
      "c:\\Users\\STANLEY\\Desktop\\titanic_disaster_prediction\\titanic_prediction_venv\\Lib\\site-packages\\sklearn\\linear_model\\_sag.py:350: ConvergenceWarning: The max_iter was reached which means the coef_ did not converge\n",
      "  warnings.warn(\n",
      "c:\\Users\\STANLEY\\Desktop\\titanic_disaster_prediction\\titanic_prediction_venv\\Lib\\site-packages\\sklearn\\linear_model\\_sag.py:350: ConvergenceWarning: The max_iter was reached which means the coef_ did not converge\n",
      "  warnings.warn(\n",
      "c:\\Users\\STANLEY\\Desktop\\titanic_disaster_prediction\\titanic_prediction_venv\\Lib\\site-packages\\sklearn\\linear_model\\_sag.py:350: ConvergenceWarning: The max_iter was reached which means the coef_ did not converge\n",
      "  warnings.warn(\n",
      "c:\\Users\\STANLEY\\Desktop\\titanic_disaster_prediction\\titanic_prediction_venv\\Lib\\site-packages\\sklearn\\linear_model\\_sag.py:350: ConvergenceWarning: The max_iter was reached which means the coef_ did not converge\n",
      "  warnings.warn(\n",
      "c:\\Users\\STANLEY\\Desktop\\titanic_disaster_prediction\\titanic_prediction_venv\\Lib\\site-packages\\sklearn\\linear_model\\_sag.py:350: ConvergenceWarning: The max_iter was reached which means the coef_ did not converge\n",
      "  warnings.warn(\n",
      "c:\\Users\\STANLEY\\Desktop\\titanic_disaster_prediction\\titanic_prediction_venv\\Lib\\site-packages\\sklearn\\linear_model\\_sag.py:350: ConvergenceWarning: The max_iter was reached which means the coef_ did not converge\n",
      "  warnings.warn(\n",
      "c:\\Users\\STANLEY\\Desktop\\titanic_disaster_prediction\\titanic_prediction_venv\\Lib\\site-packages\\sklearn\\linear_model\\_sag.py:350: ConvergenceWarning: The max_iter was reached which means the coef_ did not converge\n",
      "  warnings.warn(\n",
      "c:\\Users\\STANLEY\\Desktop\\titanic_disaster_prediction\\titanic_prediction_venv\\Lib\\site-packages\\sklearn\\linear_model\\_sag.py:350: ConvergenceWarning: The max_iter was reached which means the coef_ did not converge\n",
      "  warnings.warn(\n"
     ]
    },
    {
     "name": "stdout",
     "output_type": "stream",
     "text": [
      "Training completed for LogReg. Cross-Validation Acurracy for best Model is 0.822666499278137.\n",
      "Saving best model artifacts for LogReg.\n",
      "Save successful for LogReg.\n",
      " Starting Preprocessing, Feature Engineering and Model Initialization for SVM Classifier\n",
      "Starting Hyper-parameter selection and Model Training with Cross-Validation for SVM\n",
      "Training completed for SVM. Cross-Validation Acurracy for best Model is 0.8361182599962339.\n",
      "Saving best model artifacts for SVM.\n",
      "Save successful for SVM.\n",
      "Collating results for Models in a Dataframe\n",
      "               best_score_cv  \\\n",
      "XGBoost             0.837261   \n",
      "SVM                 0.836118   \n",
      "Random Forest       0.828259   \n",
      "LogReg              0.822666   \n",
      "KNN                 0.818229   \n",
      "\n",
      "                                                                                best_params  \n",
      "XGBoost          {'clf__learning_rate': 0.45, 'clf__max_depth': 3, 'clf__n_estimators': 50}  \n",
      "SVM                               {'clf__C': 1, 'clf__gamma': 'auto', 'clf__kernel': 'rbf'}  \n",
      "Random Forest                               {'clf__max_depth': 6, 'clf__n_estimators': 150}  \n",
      "LogReg                      {'clf__C': 1, 'clf__penalty': 'l1', 'clf__solver': 'liblinear'}  \n",
      "KNN            {'clf__algorithm': 'auto', 'clf__n_neighbors': 5, 'clf__weights': 'uniform'}  \n",
      "The best model is XGBoost with hyper-parameters {'clf__learning_rate': 0.45, 'clf__max_depth': 3, 'clf__n_estimators': 50}\n",
      "Training Complete\n"
     ]
    }
   ],
   "source": [
    "best_model, model_report_df = training(train_data, preprocessor)"
   ]
  },
  {
   "cell_type": "code",
   "execution_count": 22,
   "id": "a2895ebd",
   "metadata": {},
   "outputs": [
    {
     "data": {
      "text/html": [
       "<div>\n",
       "<style scoped>\n",
       "    .dataframe tbody tr th:only-of-type {\n",
       "        vertical-align: middle;\n",
       "    }\n",
       "\n",
       "    .dataframe tbody tr th {\n",
       "        vertical-align: top;\n",
       "    }\n",
       "\n",
       "    .dataframe thead th {\n",
       "        text-align: right;\n",
       "    }\n",
       "</style>\n",
       "<table border=\"1\" class=\"dataframe\">\n",
       "  <thead>\n",
       "    <tr style=\"text-align: right;\">\n",
       "      <th></th>\n",
       "      <th>best_score_cv</th>\n",
       "      <th>best_params</th>\n",
       "    </tr>\n",
       "  </thead>\n",
       "  <tbody>\n",
       "    <tr>\n",
       "      <th>XGBoost</th>\n",
       "      <td>0.837261</td>\n",
       "      <td>{'clf__learning_rate': 0.45, 'clf__max_depth': 3, 'clf__n_estimators': 50}</td>\n",
       "    </tr>\n",
       "    <tr>\n",
       "      <th>SVM</th>\n",
       "      <td>0.836118</td>\n",
       "      <td>{'clf__C': 1, 'clf__gamma': 'auto', 'clf__kernel': 'rbf'}</td>\n",
       "    </tr>\n",
       "    <tr>\n",
       "      <th>Random Forest</th>\n",
       "      <td>0.828259</td>\n",
       "      <td>{'clf__max_depth': 6, 'clf__n_estimators': 150}</td>\n",
       "    </tr>\n",
       "    <tr>\n",
       "      <th>LogReg</th>\n",
       "      <td>0.822666</td>\n",
       "      <td>{'clf__C': 1, 'clf__penalty': 'l1', 'clf__solver': 'liblinear'}</td>\n",
       "    </tr>\n",
       "    <tr>\n",
       "      <th>KNN</th>\n",
       "      <td>0.818229</td>\n",
       "      <td>{'clf__algorithm': 'auto', 'clf__n_neighbors': 5, 'clf__weights': 'uniform'}</td>\n",
       "    </tr>\n",
       "  </tbody>\n",
       "</table>\n",
       "</div>"
      ],
      "text/plain": [
       "               best_score_cv  \\\n",
       "XGBoost             0.837261   \n",
       "SVM                 0.836118   \n",
       "Random Forest       0.828259   \n",
       "LogReg              0.822666   \n",
       "KNN                 0.818229   \n",
       "\n",
       "                                                                                best_params  \n",
       "XGBoost          {'clf__learning_rate': 0.45, 'clf__max_depth': 3, 'clf__n_estimators': 50}  \n",
       "SVM                               {'clf__C': 1, 'clf__gamma': 'auto', 'clf__kernel': 'rbf'}  \n",
       "Random Forest                               {'clf__max_depth': 6, 'clf__n_estimators': 150}  \n",
       "LogReg                      {'clf__C': 1, 'clf__penalty': 'l1', 'clf__solver': 'liblinear'}  \n",
       "KNN            {'clf__algorithm': 'auto', 'clf__n_neighbors': 5, 'clf__weights': 'uniform'}  "
      ]
     },
     "execution_count": 22,
     "metadata": {},
     "output_type": "execute_result"
    }
   ],
   "source": [
    "model_report_df"
   ]
  },
  {
   "cell_type": "code",
   "execution_count": 25,
   "id": "d30bb319",
   "metadata": {},
   "outputs": [],
   "source": [
    "best_model_model = pickle.load(open('titanic_disaster_model.pkl', 'rb'))"
   ]
  },
  {
   "cell_type": "code",
   "execution_count": 23,
   "id": "0ed3a080",
   "metadata": {},
   "outputs": [],
   "source": [
    "predictions = best_model.predict(test_data)"
   ]
  },
  {
   "cell_type": "code",
   "execution_count": 24,
   "id": "53ad76a9",
   "metadata": {
    "execution": {
     "iopub.execute_input": "2024-01-21T06:05:41.095632Z",
     "iopub.status.busy": "2024-01-21T06:05:41.094450Z",
     "iopub.status.idle": "2024-01-21T06:05:41.104860Z",
     "shell.execute_reply": "2024-01-21T06:05:41.103795Z"
    },
    "papermill": {
     "duration": 0.019939,
     "end_time": "2024-01-21T06:05:41.107350",
     "exception": false,
     "start_time": "2024-01-21T06:05:41.087411",
     "status": "completed"
    },
    "tags": []
   },
   "outputs": [
    {
     "data": {
      "text/html": [
       "<div>\n",
       "<style scoped>\n",
       "    .dataframe tbody tr th:only-of-type {\n",
       "        vertical-align: middle;\n",
       "    }\n",
       "\n",
       "    .dataframe tbody tr th {\n",
       "        vertical-align: top;\n",
       "    }\n",
       "\n",
       "    .dataframe thead th {\n",
       "        text-align: right;\n",
       "    }\n",
       "</style>\n",
       "<table border=\"1\" class=\"dataframe\">\n",
       "  <thead>\n",
       "    <tr style=\"text-align: right;\">\n",
       "      <th></th>\n",
       "      <th>PassengerId</th>\n",
       "      <th>Survived</th>\n",
       "    </tr>\n",
       "  </thead>\n",
       "  <tbody>\n",
       "    <tr>\n",
       "      <th>0</th>\n",
       "      <td>892</td>\n",
       "      <td>0</td>\n",
       "    </tr>\n",
       "    <tr>\n",
       "      <th>1</th>\n",
       "      <td>893</td>\n",
       "      <td>0</td>\n",
       "    </tr>\n",
       "    <tr>\n",
       "      <th>2</th>\n",
       "      <td>894</td>\n",
       "      <td>0</td>\n",
       "    </tr>\n",
       "    <tr>\n",
       "      <th>3</th>\n",
       "      <td>895</td>\n",
       "      <td>0</td>\n",
       "    </tr>\n",
       "    <tr>\n",
       "      <th>4</th>\n",
       "      <td>896</td>\n",
       "      <td>1</td>\n",
       "    </tr>\n",
       "  </tbody>\n",
       "</table>\n",
       "</div>"
      ],
      "text/plain": [
       "   PassengerId  Survived\n",
       "0          892         0\n",
       "1          893         0\n",
       "2          894         0\n",
       "3          895         0\n",
       "4          896         1"
      ]
     },
     "execution_count": 24,
     "metadata": {},
     "output_type": "execute_result"
    }
   ],
   "source": [
    "submissions =pd.DataFrame({'PassengerId' : test_data.PassengerId, 'Survived' : predictions})\n",
    "submissions.head()"
   ]
  },
  {
   "cell_type": "code",
   "execution_count": null,
   "id": "95153ae7",
   "metadata": {},
   "outputs": [],
   "source": []
  }
 ],
 "metadata": {
  "kaggle": {
   "accelerator": "none",
   "dataSources": [
    {
     "databundleVersionId": 26502,
     "sourceId": 3136,
     "sourceType": "competition"
    }
   ],
   "dockerImageVersionId": 30635,
   "isGpuEnabled": false,
   "isInternetEnabled": true,
   "language": "python",
   "sourceType": "notebook"
  },
  "kernelspec": {
   "display_name": "Python 3",
   "language": "python",
   "name": "python3"
  },
  "language_info": {
   "codemirror_mode": {
    "name": "ipython",
    "version": 3
   },
   "file_extension": ".py",
   "mimetype": "text/x-python",
   "name": "python",
   "nbconvert_exporter": "python",
   "pygments_lexer": "ipython3",
   "version": "3.11.7"
  },
  "papermill": {
   "default_parameters": {},
   "duration": 24.742887,
   "end_time": "2024-01-21T06:05:41.734646",
   "environment_variables": {},
   "exception": null,
   "input_path": "__notebook__.ipynb",
   "output_path": "__notebook__.ipynb",
   "parameters": {},
   "start_time": "2024-01-21T06:05:16.991759",
   "version": "2.4.0"
  }
 },
 "nbformat": 4,
 "nbformat_minor": 5
}
